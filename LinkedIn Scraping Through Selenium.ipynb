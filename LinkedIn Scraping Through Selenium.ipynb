{
 "cells": [
  {
   "cell_type": "code",
   "execution_count": 1,
   "metadata": {},
   "outputs": [],
   "source": [
    "from selenium import webdriver\n",
    "chromedriver=r\"C:\\Users\\ACER M5\\Anaconda3\\chromedriver.exe\"\n",
    "driver= webdriver.Chrome(executable_path=chromedriver)\n",
    "driver.get('https://www.linkedin.com/login?trk=guest_homepage-basic_nav-header-signin')"
   ]
  },
  {
   "cell_type": "code",
   "execution_count": 2,
   "metadata": {},
   "outputs": [],
   "source": [
    "username=driver.find_element_by_xpath('//*[@id=\"username\"]')\n",
    "username.send_keys('UserName')\n",
    "password=driver.find_element_by_xpath('//*[@id=\"password\"]')\n",
    "password.send_keys('Password')\n",
    "login_in_button=driver.find_element_by_xpath('//*[@id=\"app__container\"]/main/div/form/div[3]/button')\n",
    "login_in_button.click()"
   ]
  },
  {
   "cell_type": "markdown",
   "metadata": {},
   "source": [
    "##### Faceted Search ( People of SF Bay Area)"
   ]
  },
  {
   "cell_type": "code",
   "execution_count": 15,
   "metadata": {},
   "outputs": [],
   "source": [
    "import re"
   ]
  },
  {
   "cell_type": "code",
   "execution_count": 4,
   "metadata": {},
   "outputs": [],
   "source": [
    "from time import sleep"
   ]
  },
  {
   "cell_type": "code",
   "execution_count": 13,
   "metadata": {},
   "outputs": [],
   "source": [
    "def full_process(a,n,em,bio,pm,lo):\n",
    "    \n",
    "    for r in range(1,101):   ### here range is number of pages you want to scrape.Per page first five profiles will be scraped\n",
    "        \n",
    "        ### the link below is of the linkedin search page where we have set manually set the location and Profession Filters \n",
    "        driver.get('https://www.linkedin.com/search/results/people/?facetGeoRegion=%5B%22us%3A70%22%2C%22us%3A49%22%2C%22us%3A64%22%2C%22us%3A68%22%2C%22us%3A732%22%2C%22us%3A82%22%2C%22us%3A91%22%5D&facetIndustry=%5B%224%22%2C%226%22%2C%2296%22%2C%2211%22%2C%228%22%2C%22113%22%2C%2284%22%5D&origin=FACETED_SEARCH&page=' + str(r))\n",
    "        \n",
    "        full_names=driver.find_elements_by_css_selector(\".name.actor-name\")\n",
    "        for i in full_names:\n",
    "            n.append(i.text)\n",
    "            \n",
    "        sleep(5)\n",
    "        \n",
    "        \n",
    "        data12= driver.find_elements_by_css_selector('.subline-level-2.t-12.t-black--light.t-normal.search-result__truncate')\n",
    "        for d12 in data12:\n",
    "            lo.append(d12.text)\n",
    "        \n",
    "        sleep(2)\n",
    "            \n",
    "        \n",
    "        data3=driver.find_elements_by_css_selector('.subline-level-1.t-14.t-black.t-normal.search-result__truncate')\n",
    "        for d3 in data3:\n",
    "            bio.append(d3.text)\n",
    "            \n",
    "        sleep(5)\n",
    "        \n",
    "        linkedin_mails=[]\n",
    "        data2=driver.find_elements_by_css_selector('.search-result__result-link.ember-view')\n",
    "        for d2 in data2:\n",
    "            linkedin_mails.append(d2.get_attribute('href'))\n",
    "        \n",
    "        sleep(5)  \n",
    "        \n",
    "        linkedin_mails=linkedin_mails[0::2]\n",
    "        \n",
    "        for e in range(len(linkedin_mails)):\n",
    "            driver.get(str(linkedin_mails[e]))\n",
    "        \n",
    "            sleep(6)\n",
    "            \n",
    "            try:\n",
    "                scrape_email= driver.find_element_by_css_selector('.pv-about__summary-text.mt4.t-14.ember-view').text\n",
    "                email_add=re.findall('\\w+@\\w+.com',scrape_email)\n",
    "                if email_add:\n",
    "                    pm.append(email_add)\n",
    "                    \n",
    "                else:\n",
    "                    pm.append(str('No email given'))\n",
    "                \n",
    "            except:\n",
    "                \n",
    "                pm.append(str('No intro'))\n",
    "                pass\n",
    "            \n",
    "        \n",
    "            try:\n",
    "                see_all_button= driver.find_element_by_css_selector('.pv-profile-section__see-more-inline.pv-profile-section__text-truncate-toggle.link.ember-view')\n",
    "                see_all_button.click()\n",
    "            \n",
    "                sleep(5)\n",
    "        \n",
    "            except:\n",
    "                a.append(str('No Articles'))\n",
    "                continue\n",
    "        \n",
    "            try:\n",
    "                articles_button=driver.find_element_by_css_selector('.pv-recent-activity-detail__pill.mr2.artdeco-pill.artdeco-pill--slate.artdeco-pill--3.artdeco-pill--toggle.artdeco-pill--selected.ember-view')\n",
    "                articles_button.click()\n",
    "        \n",
    "                sleep(5)\n",
    "        \n",
    "            except:\n",
    "            \n",
    "                a.append(str('No Articles'))\n",
    "                continue\n",
    "            \n",
    "            try:    \n",
    "                button= driver.find_elements_by_css_selector('.pv-post-entity__title.t-16.t-black.t-bold')\n",
    "        \n",
    "            except:\n",
    "                a.append(str('No Articles'))\n",
    "                continue\n",
    "        \n",
    "            row=[]\n",
    "        \n",
    "            for b in button:\n",
    "                row.append(b.text)\n",
    "        \n",
    "            a.append(row)\n",
    "        \n",
    "        \n",
    "        em.append(linkedin_mails)    \n",
    "                   "
   ]
  },
  {
   "cell_type": "code",
   "execution_count": 14,
   "metadata": {},
   "outputs": [],
   "source": [
    "locations=[]\n",
    "names=[]\n",
    "articles_titles=[]\n",
    "emails=[]\n",
    "bio=[]\n",
    "personal_email=[]"
   ]
  },
  {
   "cell_type": "code",
   "execution_count": 15,
   "metadata": {},
   "outputs": [],
   "source": [
    "full_process(articles_titles,names,emails,bio,personal_email,locations)"
   ]
  },
  {
   "cell_type": "code",
   "execution_count": 1,
   "metadata": {},
   "outputs": [],
   "source": [
    "import numpy as np\n",
    "import pandas as pd"
   ]
  },
  {
   "cell_type": "code",
   "execution_count": null,
   "metadata": {},
   "outputs": [],
   "source": [
    "emails=[item for subitems in emails for item in subitems]"
   ]
  },
  {
   "cell_type": "code",
   "execution_count": 18,
   "metadata": {},
   "outputs": [],
   "source": [
    "locations=np.array(locations).reshape(-1)\n",
    "names=np.array(names).reshape(-1)\n",
    "articles_titles=np.array(articles_titles).reshape(-1)\n",
    "emails=np.array(emails).reshape(-1)\n",
    "bio=np.array(bio).reshape(-1)\n",
    "personal_email=np.array(personal_email).reshape(-1)"
   ]
  },
  {
   "cell_type": "code",
   "execution_count": 27,
   "metadata": {},
   "outputs": [
    {
     "name": "stdout",
     "output_type": "stream",
     "text": [
      "(515,) (540,) (540,) (540,) (100, 1) (540,)\n"
     ]
    }
   ],
   "source": [
    "print(names.shape,locations.shape,articles_titles.shape,bio.shape,emails.shape,personal_email.shape)"
   ]
  },
  {
   "cell_type": "code",
   "execution_count": 75,
   "metadata": {
    "scrolled": true
   },
   "outputs": [],
   "source": [
    "Scraped_Data= pd.DataFrame({'Name':names,'Bio':bio,'LinkedIn_address':emails,'Personal_email':personal_email,'articles_titles':articles_titles,'Location':locations},index=range(540))"
   ]
  },
  {
   "cell_type": "code",
   "execution_count": null,
   "metadata": {},
   "outputs": [],
   "source": []
  }
 ],
 "metadata": {
  "kernelspec": {
   "display_name": "Python 3",
   "language": "python",
   "name": "python3"
  },
  "language_info": {
   "codemirror_mode": {
    "name": "ipython",
    "version": 3
   },
   "file_extension": ".py",
   "mimetype": "text/x-python",
   "name": "python",
   "nbconvert_exporter": "python",
   "pygments_lexer": "ipython3",
   "version": "3.7.3"
  }
 },
 "nbformat": 4,
 "nbformat_minor": 2
}
